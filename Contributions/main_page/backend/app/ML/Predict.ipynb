{
  "nbformat": 4,
  "nbformat_minor": 0,
  "metadata": {
    "colab": {
      "provenance": []
    },
    "kernelspec": {
      "name": "python3",
      "display_name": "Python 3"
    },
    "language_info": {
      "name": "python"
    }
  },
  "cells": [
    {
      "cell_type": "code",
      "source": [
        "from google.colab import drive\n",
        "drive.mount('/content/drive')"
      ],
      "metadata": {
        "colab": {
          "base_uri": "https://localhost:8080/"
        },
        "id": "7D94krkWI9zp",
        "outputId": "91da0097-db17-4c98-cc5b-842a16a4d8d1"
      },
      "execution_count": 1,
      "outputs": [
        {
          "output_type": "stream",
          "name": "stdout",
          "text": [
            "Mounted at /content/drive\n"
          ]
        }
      ]
    },
    {
      "cell_type": "code",
      "execution_count": 2,
      "metadata": {
        "id": "jrhH7rcZHOO_"
      },
      "outputs": [],
      "source": [
        "# Load in a model and evaluate it\n",
        "import tensorflow as tf\n",
        "loaded_model_1 = tf.keras.models.load_model(\"/content/drive/MyDrive/SIH/saved_trained_model\")"
      ]
    },
    {
      "cell_type": "code",
      "source": [
        "# Create a function to import an image and resize it to be able to be used with our model\n",
        "def load_and_prep_image(filename, img_shape=[450, 600]):\n",
        "  \"\"\"\n",
        "  Reads an image from filename, turns it into a tensor\n",
        "  and reshapes it to (img_shape, img_shape, colour_channel).\n",
        "  \"\"\"\n",
        "  # Read in target file (an image)\n",
        "  img = tf.io.read_file(filename)\n",
        "\n",
        "  # Decode the read file into a tensor & ensure 3 colour channels\n",
        "  # (our model is trained on images with 3 colour channels and sometimes images have 4 colour channels)\n",
        "  img = tf.image.decode_image(img, channels=3)\n",
        "\n",
        "  # Resize the image (to the same size our model was trained on)\n",
        "  img = tf.image.resize(img, size = img_shape)\n",
        "\n",
        "  # Rescale the image (get all values between 0 and 1)\n",
        "  img = img/255.\n",
        "  return img\n",
        "\n",
        "# Function to work with multi-class\n",
        "def pred(model, filename, class_names, img_shape=[450, 600]):\n",
        "  \"\"\"\n",
        "  Imports an image located at filename, makes a prediction on it with\n",
        "  a trained model and plots the image with the predicted class as the title.\n",
        "  \"\"\"\n",
        "  # Import the target image and preprocess it\n",
        "  img = load_and_prep_image(filename, img_shape)\n",
        "\n",
        "  # Make a prediction\n",
        "  pred = model.predict(tf.expand_dims(img, axis=0))\n",
        "  #print(pred)\n",
        "\n",
        "  # Get the predicted class\n",
        "  pred_class = class_names[pred.argmax()] # if more than one output, take the max\n",
        "\n",
        "  return pred_class\n",
        "\n",
        "class_names = ['actinic keratosis', 'basal cell carcinoma', 'dermatofibroma', 'melanoma',\n",
        "               'nevus', 'pigmented benign keratosis', 'squamous cell carcinoma', 'vascular lesion']"
      ],
      "metadata": {
        "id": "qLGhXervHd97"
      },
      "execution_count": 3,
      "outputs": []
    },
    {
      "cell_type": "code",
      "source": [
        "prediction = []\n",
        "prediction.append(pred(loaded_model_1, \"/content/drive/MyDrive/SIH/try/dermatofibroma.JPG\", class_names))\n"
      ],
      "metadata": {
        "colab": {
          "base_uri": "https://localhost:8080/"
        },
        "id": "eFVb5R5aL8pJ",
        "outputId": "400b2303-646d-43de-e916-58f3ffa2fb97"
      },
      "execution_count": 4,
      "outputs": [
        {
          "output_type": "stream",
          "name": "stdout",
          "text": [
            "1/1 [==============================] - 1s 1s/step\n"
          ]
        }
      ]
    },
    {
      "cell_type": "code",
      "source": [
        "import pandas as pd\n",
        "\n",
        "preiction_Ser = pd.Series(data = prediction).to_csv(\"/content/drive/MyDrive/SIH/Prediction.csv\")"
      ],
      "metadata": {
        "id": "0BMvCT6_L-1T"
      },
      "execution_count": 5,
      "outputs": []
    },
    {
      "cell_type": "code",
      "source": [],
      "metadata": {
        "id": "_fjxi14UMBS0"
      },
      "execution_count": null,
      "outputs": []
    }
  ]
}