{
  "cells": [
    {
      "cell_type": "code",
      "execution_count": 2,
      "metadata": {
        "id": "jrhH7rcZHOO_"
      },
      "outputs": [],
      "source": [
        "# Load in a model and evaluate it\n",
        "import tensorflow as tf\n",
        "loaded_model_1 = tf.keras.models.load_model(\"C:/Users/SHREYAN/Desktop/GIT/MedX/Contributions/ML/saved_trained_model\")"
      ]
    },
    {
      "cell_type": "code",
      "execution_count": 10,
      "metadata": {
        "id": "qLGhXervHd97"
      },
      "outputs": [],
      "source": [
        "# Create a function to import an image and resize it to be able to be used with our model\n",
        "def load_and_prep_image(filename, img_shape=[450, 600]):\n",
        "  \"\"\"\n",
        "  Reads an image from filename, turns it into a tensor\n",
        "  and reshapes it to (img_shape, img_shape, colour_channel).\n",
        "  \"\"\"\n",
        "  # Read in target file (an image)\n",
        "  img = tf.io.read_file(filename)\n",
        "\n",
        "  # Decode the read file into a tensor & ensure 3 colour channels\n",
        "  # (our model is trained on images with 3 colour channels and sometimes images have 4 colour channels)\n",
        "  img = tf.image.decode_image(img, channels=3)\n",
        "\n",
        "  # Resize the image (to the same size our model was trained on)\n",
        "  img = tf.image.resize(img, size = img_shape)\n",
        "\n",
        "  # Rescale the image (get all values between 0 and 1)\n",
        "  img = img/255.\n",
        "  return img\n",
        "\n",
        "# Function to work with multi-class\n",
        "def pred(model, filename, class_names, img_shape=[450, 600]):\n",
        "  \"\"\"\n",
        "  Imports an image located at filename, makes a prediction on it with\n",
        "  a trained model and plots the image with the predicted class as the title.\n",
        "  \"\"\"\n",
        "  # Import the target image and preprocess it\n",
        "  img = load_and_prep_image(filename, img_shape)\n",
        "\n",
        "  # Make a prediction\n",
        "  pred = model.predict(tf.expand_dims(img, axis=0))\n",
        "  #print(pred)\n",
        "\n",
        "  # Get the predicted class\n",
        "  pred_class = class_names[pred.argmax()] # if more than one output, take the max\n",
        "\n",
        "  return pred_class\n",
        "\n"
      ]
    },
    {
      "cell_type": "code",
      "execution_count": 11,
      "metadata": {
        "colab": {
          "base_uri": "https://localhost:8080/"
        },
        "id": "eFVb5R5aL8pJ",
        "outputId": "400b2303-646d-43de-e916-58f3ffa2fb97"
      },
      "outputs": [
        {
          "name": "stdout",
          "output_type": "stream",
          "text": [
            "1/1 [==============================] - 0s 55ms/step\n",
            "1/1 [==============================] - 0s 72ms/step\n",
            "1/1 [==============================] - 0s 55ms/step\n",
            "1/1 [==============================] - 0s 62ms/step\n",
            "1/1 [==============================] - 0s 55ms/step\n",
            "1/1 [==============================] - 0s 60ms/step\n",
            "Pigmented Benign Keratosis Pigmented Benign Keratosis is a common noncancerous waxy or scaly and slightly raised skin growth, which develops on the face, neck, chest or back with age.\n"
          ]
        }
      ],
      "source": [
        "class_names = [\"Actinic Keratosis\", \"Basal Cell Carcinoma\", \"Dermatofibroma\", \"Melanoma\",\n",
        "               \"Nevus\", \"Pigmented Benign Keratosis\", \"Squamous Cell Carcinoma\", \"Vascular Lesion\"]\n",
        "\n",
        "prediction = []\n",
        "prediction.append(pred(loaded_model_1, \"pbk.JPG\", class_names))\n",
        "prediction.append(pred(loaded_model_1, \"pbk.JPG\", class_names))\n",
        "prediction.append(pred(loaded_model_1, \"pbk.JPG\", class_names))\n",
        "prediction.append(pred(loaded_model_1, \"bcc.JPG\", class_names))\n",
        "prediction.append(pred(loaded_model_1, \"vl.JPG\", class_names))\n",
        "prediction.append(pred(loaded_model_1, \"vl.JPG\", class_names))\n",
        "\n",
        "name_desc = {\"Nevus\": \"Nevi are very common, most people have between 10 and 40. Common nevi are harmless collections of colored cells. They typically appear as small brown, tan, or pink spots. Nothing to worry about !!\",\n",
        "             \"Basal Cell Carcinoma\": \"Basal cell carcinoma is a type of skin cancer that most often develops on areas of skin exposed to the sun, such as the face. It often looks like a bump that's skin-colored or pink.\",\n",
        "             \"Squamous Cell Carcinoma\": \"Squamous cell carcinoma is a common type of skin cancer which is usually not life-threatening. But if not treated, it can grow large or spread to other parts of the body.  \",\n",
        "             \"Actinic Keratosis\": \"Actinic keratosis may appear as irregular, red, scaly papules or plaques on sun-exposed regions of the body. It can potentially progress into invasive squamous cell carcinoma.\",\n",
        "             \"Pigmented Benign Keratosis\": \"Pigmented Benign Keratosis is a common noncancerous waxy or scaly and slightly raised skin growth, which develops on the face, neck, chest or back with age.\",\n",
        "             \"Dermatofibroma\": \"A dermatofibroma is a common benign fibrous nodule usually found on the skin of the lower legs. Sometimes attributed to minor trauma including insect bites, injections, or a rose thorn injury, but not consistently.\",\n",
        "             \"Melanoma\": \"Melanoma, the most serious type of skin cancer. While the exact cause isn't clear, but exposure to ultraviolet (UV) radiation from sunlight or tanning lamps and beds increases your risk of developing melanoma.\",\n",
        "             \"Vascular Lesion\": \"Vascular lesions are relatively common abnormalities of the skin and underlying tissues, more commonly known as birthmarks.\"}\n",
        "\n",
        "def mode_pred(prediction, class_names, name_desc):\n",
        "    pred_dict = {}\n",
        "\n",
        "    for i in class_names:\n",
        "        pred_dict[i] = prediction.count(i)\n",
        "\n",
        "    max_name = \"\"\n",
        "    max = 0\n",
        "    for i in class_names:\n",
        "        if pred_dict[i] > max:\n",
        "            max_name = i\n",
        "            max = pred_dict[i]\n",
        "\n",
        "    print(max_name, name_desc[max_name])\n",
        "\n",
        "mode_pred(prediction, class_names, name_desc)\n"
      ]
    },
    {
      "cell_type": "code",
      "execution_count": null,
      "metadata": {},
      "outputs": [],
      "source": []
    }
  ],
  "metadata": {
    "colab": {
      "provenance": []
    },
    "kernelspec": {
      "display_name": "Python 3",
      "name": "python3"
    },
    "language_info": {
      "codemirror_mode": {
        "name": "ipython",
        "version": 3
      },
      "file_extension": ".py",
      "mimetype": "text/x-python",
      "name": "python",
      "nbconvert_exporter": "python",
      "pygments_lexer": "ipython3",
      "version": "3.11.4"
    }
  },
  "nbformat": 4,
  "nbformat_minor": 0
}
